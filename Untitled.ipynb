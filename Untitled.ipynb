{
 "cells": [
  {
   "cell_type": "code",
   "execution_count": null,
   "metadata": {
    "scrolled": false
   },
   "outputs": [],
   "source": [
    "import openpyxl #Excelファイルを作成、書き込みなどをするパッケージ\n",
    "from IPython.core.pylabtools import figsize\n",
    "import numpy as np #配列を作るモジュール\n",
    "import matplotlib.pyplot as plt #グラフを描くモジュール\n",
    "from mpl_toolkits.mplot3d import axes3d #3次元のときはこれも\n",
    "\n",
    "wb =openpyxl.load_workbook('test_vol.xlsx')   #current directoryに対象ファイルを保存しておく。\n",
    "sheet = wb['EQ Vega']\n",
    "\n",
    "def get_value_list(t_2d):\n",
    "    return([[cell.value for cell in row] for row in t_2d]) #セルを配列として読み込むように関数を定義\n",
    "\n",
    "figsize(10, 10) #グラフのサイズを指定\n",
    "\n",
    "fig = plt.figure()\n",
    "ax = fig.add_subplot(111, projection='3d')\n",
    "ax.view_init(elev=30,azim=50)   #ここで回転を調整\n",
    "\n",
    "Z = get_value_list(sheet['C30:Y48'])\n",
    "Z_matrix = np.array(Z)\n",
    "\n",
    "x = get_value_list(sheet['C29:Y29'])\n",
    "y_text = get_value_list(sheet['A30:A48'])\n",
    "y = range(0,19,1)\n",
    "\n",
    "X, Y = np.meshgrid(x, y)\n",
    "\n",
    "print(Y)\n",
    "\n",
    "plt.yticks(y,y_text) #yとtextのリストを対応させる。\n",
    "\n",
    "ax.plot_surface(X, Y, Z_matrix, rstride=1, cstride=1, cmap=cm.coolwarm)\n",
    "ax.set_xlabel(\"strike\")\n",
    "ax.set_ylabel(\"maturity\")\n",
    "ax.set_zlabel(\"volatility\")\n",
    "#ax.plot_wireframe(X, Y, Z_matrix, rstride=2, cstride=2)\n"
   ]
  },
  {
   "cell_type": "code",
   "execution_count": null,
   "metadata": {},
   "outputs": [],
   "source": []
  }
 ],
 "metadata": {
  "kernelspec": {
   "display_name": "Python 3",
   "language": "python",
   "name": "python3"
  },
  "language_info": {
   "codemirror_mode": {
    "name": "ipython",
    "version": 3
   },
   "file_extension": ".py",
   "mimetype": "text/x-python",
   "name": "python",
   "nbconvert_exporter": "python",
   "pygments_lexer": "ipython3",
   "version": "3.6.4"
  }
 },
 "nbformat": 4,
 "nbformat_minor": 2
}
